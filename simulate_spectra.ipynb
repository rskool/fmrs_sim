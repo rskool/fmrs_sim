{
 "cells": [
  {
   "cell_type": "code",
   "execution_count": 1,
   "metadata": {},
   "outputs": [],
   "source": [
    "from fsl_mrs.utils import synthetic as syn\n",
    "import numpy as np\n",
    "from fsl_mrs.core import MRS\n",
    "import matplotlib.pyplot as plt\n",
    "from fsl_mrs.utils.mrs_io import lcm_io as lcm\n",
    "\n",
    "#dictionary with average metab concs, should be in same folder\n",
    "dicty = np.load('avg_metab_concs.npy',allow_pickle='TRUE').item()\n",
    "\n",
    "#basis file, edit accordingly\n",
    "basis_path = '/path/bndu_data/fsl_mrs_simulations/basis_files/basis_file.BASIS'\n"
   ]
  },
  {
   "cell_type": "code",
   "execution_count": 2,
   "metadata": {},
   "outputs": [],
   "source": [
    "#define different GABA conditions\n",
    "gaba_base = dicty['GABA']\n",
    "gaba_plus= gaba_base+0.54 #measured difference in main analysis\n",
    "gaba_min = gaba_base-0.54\n"
   ]
  },
  {
   "cell_type": "code",
   "execution_count": 6,
   "metadata": {},
   "outputs": [],
   "source": [
    "#set GABA and double check vlaue\n",
    "condition = 'gaba_baseline'\n",
    "snr_condition = 'snr_base'\n",
    "dicty['GABA']=gaba_base\n",
    "save_path = '/path/fsl_mrs_simulations/' + snr_condition +'/' + condition # edit accordingly"
   ]
  },
  {
   "cell_type": "code",
   "execution_count": 7,
   "metadata": {},
   "outputs": [],
   "source": [
    "# run simulations\n",
    "for i in range(2000):\n",
    "    #simulate spectrum\n",
    "    fid, header, _ = syn.syntheticFromBasisFile(str(basis_path),\n",
    "                                                ind_scaling=['mm'],\n",
    "                                                baseline=[0.0, 0.0],\n",
    "                                                broadening=(28.8, 0.0),\n",
    "                                                concentrations=dicty,\n",
    "                                                noisecovariance=[[13.5]],\n",
    "                                                bandwidth=6000.0,\n",
    "                                                points=2048)\n",
    "\n",
    "    lcm.saveRAW(save_path + '/sim_'+ condition + str(i+1) + '.RAW',fid,conj=True)\n",
    "\n",
    "  "
   ]
  },
  {
   "cell_type": "code",
   "execution_count": null,
   "metadata": {},
   "outputs": [
    {
     "name": "stderr",
     "output_type": "stream",
     "text": [
      "/opt/anaconda3/envs/fsl_mrs/lib/python3.7/site-packages/numpy/core/_methods.py:234: RuntimeWarning:\n",
      "\n",
      "Degrees of freedom <= 0 for slice\n",
      "\n",
      "/opt/anaconda3/envs/fsl_mrs/lib/python3.7/site-packages/numpy/core/_methods.py:195: RuntimeWarning:\n",
      "\n",
      "invalid value encountered in true_divide\n",
      "\n",
      "/opt/anaconda3/envs/fsl_mrs/lib/python3.7/site-packages/numpy/core/_methods.py:226: RuntimeWarning:\n",
      "\n",
      "invalid value encountered in double_scalars\n",
      "\n"
     ]
    }
   ],
   "source": [
    "# for estimating and matching simulation SNR\n",
    "from fsl_mrs.utils.misc import parse_metab_groups, FIDToSpec, calculateAxes\n",
    "from fsl_mrs.utils.fitting import fit_FSLModel\n",
    "from fsl_mrs.utils import plotting\n",
    "from fsl_mrs.utils import mrs_io\n",
    "from fsl_mrs.utils import preproc as proc\n",
    "\n",
    "snr_est = 53\n",
    "basis,names,bheader = mrs_io.read_basis(basis_path)\n",
    "\n",
    "snrs=np.zeros((100,1))\n",
    "\n",
    "for i in range(100):\n",
    "    #simulate spectrum\n",
    "    fid, header, _ = syn.syntheticFromBasisFile(str(basis_path),\n",
    "                                                ind_scaling=['mm'],\n",
    "                                                baseline=[0.0, 0.0],\n",
    "                                                broadening=(28.8, 0.0),\n",
    "                                                concentrations=dicty,\n",
    "                                                noisecovariance=[[snr_est]] ,\n",
    "                                                bandwidth=6000.0,\n",
    "                                                points=2048)\n",
    "    # create MRS object for fitting\n",
    "    mrs = MRS(FID=fid,header=header,basis=basis,names=names,basis_hdr=bheader[0])\n",
    "    mrs.processForFitting(ind_scaling=['mm'])\n",
    "    \n",
    "    metab_groups = parse_metab_groups(mrs,'mm')\n",
    "    FitArgs = {\n",
    "        'model':'voigt',\n",
    "        'metab_groups' : metab_groups,\n",
    "        'ppmlim' : (.2,4.2),\n",
    "        'baseline_order' : 4,}\n",
    "\n",
    "    res = fit_FSLModel(mrs,**FitArgs)\n",
    "    x=res.getQCParams()\n",
    "    snrs[i]=x[0][13]  "
   ]
  },
  {
   "cell_type": "code",
   "execution_count": null,
   "metadata": {},
   "outputs": [],
   "source": []
  }
 ],
 "metadata": {
  "kernelspec": {
   "display_name": "Python 3 (ipykernel)",
   "language": "python",
   "name": "python3"
  },
  "language_info": {
   "codemirror_mode": {
    "name": "ipython",
    "version": 3
   },
   "file_extension": ".py",
   "mimetype": "text/x-python",
   "name": "python",
   "nbconvert_exporter": "python",
   "pygments_lexer": "ipython3",
   "version": "3.8.12"
  }
 },
 "nbformat": 4,
 "nbformat_minor": 4
}
